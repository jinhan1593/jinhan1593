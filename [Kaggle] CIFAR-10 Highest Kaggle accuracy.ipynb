{
 "cells": [
  {
   "cell_type": "code",
   "execution_count": null,
   "metadata": {},
   "outputs": [],
   "source": [
    "# Prerequisite\n",
    "import sys\n",
    "if sys.version_info[0] < 3:\n",
    "    raise Exception(\"Python 3 not detected.\")\n",
    "    \n",
    "import numpy as np\n",
    "import matplotlib.pyplot as plt \n",
    "from sklearn import svm\n",
    "from scipy import io\n",
    "\n",
    "for data_name in [\"mnist\", \"spam\", \"cifar10\"]:\n",
    "    data = io.loadmat(\"/Users/jinhan/Downloads/hw1/data/%s_data.mat\" % data_name)\n",
    "    print(\"\\nloaded %s data!\" % data_name)\n",
    "    fields = \"test_data\", \"training_data\", \"training_labels\"\n",
    "    for field in fields:\n",
    "        print(field, data[field].shape)"
   ]
  },
  {
   "cell_type": "code",
   "execution_count": null,
   "metadata": {},
   "outputs": [],
   "source": [
    "# Question 1: Data Partitioning\n",
    "import random\n",
    "\n",
    "# CIFAR-10 validation and training set\n",
    "cifar_10_data = io.loadmat(\"/Users/jinhan/Downloads/hw1/data/cifar10_data.mat\")\n",
    "\n",
    "# zip training data and training labels\n",
    "map_cifar_10 = list(zip(cifar_10_data['training_data'], cifar_10_data['training_labels']))\n",
    "\n",
    "# shuffle the data with corresponding label\n",
    "shuffled_cifar_10_data = random.sample(map_cifar_10, len(map_cifar_10))\n",
    "\n",
    "cifar10_test_set = cifar_10_data['test_data']"
   ]
  },
  {
   "cell_type": "code",
   "execution_count": null,
   "metadata": {},
   "outputs": [],
   "source": [
    "# Have all shuffled data samples split as features and labels\n",
    "\n",
    "unzip_cifar_10 = list(zip(*shuffled_cifar_10_data))\n",
    "cifar10_tr_features = unzip_cifar_10[0]\n",
    "cifar10_tr_labels = unzip_cifar_10[1]\n",
    "\n",
    "cifar10_clf_50000 = svm.LinearSVC(C= np.e**-25) # Linear Kernel\n",
    "\n",
    "# Fit the model \n",
    "cifar10_clf_50000.fit(cifar10_tr_features, np.ravel(cifar10_tr_labels))\n",
    "\n",
    "# Predict the response for the test dataset\n",
    "cifar10_y_pred_50000 = cifar10_clf_50000.predict(cifar10_test_set)\n",
    "\n",
    "import pandas as pd\n",
    "import numpy as np\n",
    "\n",
    "# Usage results_to_csv(clf.predict(X_test))\n",
    "def results_to_csv(y_test):\n",
    "    y_test = y_test.astype(int)\n",
    "    df = pd.DataFrame({'Category': y_test})\n",
    "    df.index += 1  # Ensures that the index starts at 1. \n",
    "    df.to_csv('submission_cifar10.csv', index_label='Id')\n",
    "results_to_csv(cifar10_y_pred_50000)"
   ]
  }
 ],
 "metadata": {
  "kernelspec": {
   "display_name": "Python 3",
   "language": "python",
   "name": "python3"
  },
  "language_info": {
   "codemirror_mode": {
    "name": "ipython",
    "version": 3
   },
   "file_extension": ".py",
   "mimetype": "text/x-python",
   "name": "python",
   "nbconvert_exporter": "python",
   "pygments_lexer": "ipython3",
   "version": "3.8.5"
  }
 },
 "nbformat": 4,
 "nbformat_minor": 4
}
