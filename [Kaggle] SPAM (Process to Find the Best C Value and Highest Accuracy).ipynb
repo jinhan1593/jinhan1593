{
 "cells": [
  {
   "cell_type": "code",
   "execution_count": 1,
   "metadata": {},
   "outputs": [
    {
     "name": "stdout",
     "output_type": "stream",
     "text": [
      "\n",
      "loaded mnist data!\n",
      "test_data (10000, 784)\n",
      "training_data (60000, 784)\n",
      "training_labels (60000, 1)\n",
      "\n",
      "loaded spam data!\n",
      "test_data (5857, 154)\n",
      "training_data (5172, 154)\n",
      "training_labels (5172, 1)\n",
      "\n",
      "loaded cifar10 data!\n",
      "test_data (10000, 3072)\n",
      "training_data (50000, 3072)\n",
      "training_labels (50000, 1)\n"
     ]
    }
   ],
   "source": [
    "# Prerequisite\n",
    "import sys\n",
    "if sys.version_info[0] < 3:\n",
    "    raise Exception(\"Python 3 not detected.\")\n",
    "    \n",
    "import numpy as np\n",
    "import matplotlib.pyplot as plt \n",
    "from sklearn import svm\n",
    "from scipy import io\n",
    "\n",
    "for data_name in [\"mnist\", \"spam\", \"cifar10\"]:\n",
    "    data = io.loadmat(\"/Users/jinhan/Downloads/hw1/data/%s_data.mat\" % data_name)\n",
    "    print(\"\\nloaded %s data!\" % data_name)\n",
    "    fields = \"test_data\", \"training_data\", \"training_labels\"\n",
    "    for field in fields:\n",
    "        print(field, data[field].shape)"
   ]
  },
  {
   "cell_type": "code",
   "execution_count": 2,
   "metadata": {},
   "outputs": [],
   "source": [
    "import random\n",
    "# Spam training and validation set\n",
    "spam_data = io.loadmat(\"/Users/jinhan/Downloads/hw1/data/spam_data.mat\")\n",
    "\n",
    "# zip training data and training labels\n",
    "map_spam = list(zip(spam_data['training_data'], spam_data['training_labels']))\n",
    "\n",
    "# shuffle the data with corresponding label\n",
    "shuffled_spam_data = random.sample(map_spam, len(map_spam))\n",
    "\n",
    "# split validation set and the remaining training set\n",
    "\n",
    "validation_spam_set = shuffled_spam_data[:round(len(shuffled_spam_data)*0.2)]\n",
    "remaining_spam_set = shuffled_spam_data[round(len(shuffled_spam_data)*0.2):]\n",
    "\n",
    "test_spam_set = spam_data['test_data']\n"
   ]
  },
  {
   "cell_type": "code",
   "execution_count": 4,
   "metadata": {},
   "outputs": [
    {
     "name": "stderr",
     "output_type": "stream",
     "text": [
      "/opt/anaconda3/lib/python3.8/site-packages/sklearn/svm/_base.py:976: ConvergenceWarning: Liblinear failed to converge, increase the number of iterations.\n",
      "  warnings.warn(\"Liblinear failed to converge, increase \"\n",
      "/opt/anaconda3/lib/python3.8/site-packages/sklearn/svm/_base.py:976: ConvergenceWarning: Liblinear failed to converge, increase the number of iterations.\n",
      "  warnings.warn(\"Liblinear failed to converge, increase \"\n"
     ]
    },
    {
     "name": "stdout",
     "output_type": "stream",
     "text": [
      "The c1_model's validation accuracy is:  0.8907156673114119\n",
      "The c2_model's validation accuracy is:  0.8926499032882012\n"
     ]
    },
    {
     "name": "stderr",
     "output_type": "stream",
     "text": [
      "/opt/anaconda3/lib/python3.8/site-packages/sklearn/svm/_base.py:976: ConvergenceWarning: Liblinear failed to converge, increase the number of iterations.\n",
      "  warnings.warn(\"Liblinear failed to converge, increase \"\n",
      "/opt/anaconda3/lib/python3.8/site-packages/sklearn/svm/_base.py:976: ConvergenceWarning: Liblinear failed to converge, increase the number of iterations.\n",
      "  warnings.warn(\"Liblinear failed to converge, increase \"\n"
     ]
    },
    {
     "name": "stdout",
     "output_type": "stream",
     "text": [
      "The c3_model's validation accuracy is:  0.8926499032882012\n",
      "The c4_model's validation accuracy is:  0.8829787234042553\n",
      "The c5_model's validation accuracy is:  0.8230174081237911\n",
      "The c6_model's validation accuracy is:  0.7330754352030948\n"
     ]
    },
    {
     "name": "stderr",
     "output_type": "stream",
     "text": [
      "/opt/anaconda3/lib/python3.8/site-packages/sklearn/svm/_base.py:976: ConvergenceWarning: Liblinear failed to converge, increase the number of iterations.\n",
      "  warnings.warn(\"Liblinear failed to converge, increase \"\n"
     ]
    },
    {
     "name": "stdout",
     "output_type": "stream",
     "text": [
      "The c7_model's validation accuracy is:  0.7901353965183753\n"
     ]
    },
    {
     "name": "stderr",
     "output_type": "stream",
     "text": [
      "/opt/anaconda3/lib/python3.8/site-packages/sklearn/svm/_base.py:976: ConvergenceWarning: Liblinear failed to converge, increase the number of iterations.\n",
      "  warnings.warn(\"Liblinear failed to converge, increase \"\n",
      "/opt/anaconda3/lib/python3.8/site-packages/sklearn/svm/_base.py:976: ConvergenceWarning: Liblinear failed to converge, increase the number of iterations.\n",
      "  warnings.warn(\"Liblinear failed to converge, increase \"\n"
     ]
    },
    {
     "name": "stdout",
     "output_type": "stream",
     "text": [
      "The c8_model's validation accuracy is:  0.7485493230174082\n",
      "The c9_model's validation accuracy is:  0.9032882011605415\n"
     ]
    },
    {
     "name": "stderr",
     "output_type": "stream",
     "text": [
      "/opt/anaconda3/lib/python3.8/site-packages/sklearn/svm/_base.py:976: ConvergenceWarning: Liblinear failed to converge, increase the number of iterations.\n",
      "  warnings.warn(\"Liblinear failed to converge, increase \"\n",
      "/opt/anaconda3/lib/python3.8/site-packages/sklearn/svm/_base.py:976: ConvergenceWarning: Liblinear failed to converge, increase the number of iterations.\n",
      "  warnings.warn(\"Liblinear failed to converge, increase \"\n"
     ]
    },
    {
     "name": "stdout",
     "output_type": "stream",
     "text": [
      "The c10_model's validation accuracy is:  0.8955512572533849\n",
      "The c11_model's validation accuracy is:  0.8916827852998066\n"
     ]
    },
    {
     "name": "stderr",
     "output_type": "stream",
     "text": [
      "/opt/anaconda3/lib/python3.8/site-packages/sklearn/svm/_base.py:976: ConvergenceWarning: Liblinear failed to converge, increase the number of iterations.\n",
      "  warnings.warn(\"Liblinear failed to converge, increase \"\n"
     ]
    },
    {
     "name": "stdout",
     "output_type": "stream",
     "text": [
      "The c12_model's validation accuracy is:  0.8916827852998066\n"
     ]
    },
    {
     "name": "stderr",
     "output_type": "stream",
     "text": [
      "/opt/anaconda3/lib/python3.8/site-packages/sklearn/svm/_base.py:976: ConvergenceWarning: Liblinear failed to converge, increase the number of iterations.\n",
      "  warnings.warn(\"Liblinear failed to converge, increase \"\n"
     ]
    },
    {
     "name": "stdout",
     "output_type": "stream",
     "text": [
      "The c13_model's validation accuracy is:  0.8936170212765957\n"
     ]
    },
    {
     "name": "stderr",
     "output_type": "stream",
     "text": [
      "/opt/anaconda3/lib/python3.8/site-packages/sklearn/svm/_base.py:976: ConvergenceWarning: Liblinear failed to converge, increase the number of iterations.\n",
      "  warnings.warn(\"Liblinear failed to converge, increase \"\n"
     ]
    },
    {
     "name": "stdout",
     "output_type": "stream",
     "text": [
      "The c14_model's validation accuracy is:  0.9003868471953579\n"
     ]
    },
    {
     "name": "stderr",
     "output_type": "stream",
     "text": [
      "/opt/anaconda3/lib/python3.8/site-packages/sklearn/svm/_base.py:976: ConvergenceWarning: Liblinear failed to converge, increase the number of iterations.\n",
      "  warnings.warn(\"Liblinear failed to converge, increase \"\n"
     ]
    },
    {
     "name": "stdout",
     "output_type": "stream",
     "text": [
      "The c15_model's validation accuracy is:  0.8858800773694391\n",
      "The c16_model's validation accuracy is:  0.8936170212765957\n"
     ]
    },
    {
     "name": "stderr",
     "output_type": "stream",
     "text": [
      "/opt/anaconda3/lib/python3.8/site-packages/sklearn/svm/_base.py:976: ConvergenceWarning: Liblinear failed to converge, increase the number of iterations.\n",
      "  warnings.warn(\"Liblinear failed to converge, increase \"\n"
     ]
    },
    {
     "name": "stdout",
     "output_type": "stream",
     "text": [
      "The c17_model's validation accuracy is:  0.8858800773694391\n"
     ]
    },
    {
     "name": "stderr",
     "output_type": "stream",
     "text": [
      "/opt/anaconda3/lib/python3.8/site-packages/sklearn/svm/_base.py:976: ConvergenceWarning: Liblinear failed to converge, increase the number of iterations.\n",
      "  warnings.warn(\"Liblinear failed to converge, increase \"\n"
     ]
    }
   ],
   "source": [
    "#2b)\n",
    "from sklearn.metrics import accuracy_score\n",
    "\n",
    "num_examples = [100, 200, 500, 1000, 2000, \"ALL\"]\n",
    "\n",
    "# Unzip the features and labels \n",
    "\n",
    "\n",
    "# Spliting Training and Validation Set \n",
    "\n",
    "unzip_spam_tr = list(zip(*remaining_spam_set))\n",
    "spam_tr_features = unzip_spam_tr[0]\n",
    "spam_tr_labels = unzip_spam_tr[1]\n",
    "\n",
    "unzip_spam_val = list(zip(*validation_spam_set))\n",
    "spam_val_features = unzip_spam_val[0]\n",
    "spam_val_labels = unzip_spam_val[1]\n",
    "\n",
    "\n",
    "\n",
    "\n",
    "\"\"\"\"\"\"\n",
    "# ALL\n",
    "\"\"\"\"\"\"\n",
    "\n",
    "\n",
    "#The best model was c14_model = svm.LinearSVC(C= 35)\n",
    "\n",
    "c1_model = svm.LinearSVC(C= 1)\n",
    "c2_model = svm.LinearSVC(C= 2**-3)\n",
    "c3_model = svm.LinearSVC( C= 10)\n",
    "c4_model = svm.LinearSVC( C= 100)\n",
    "c5_model = svm.LinearSVC( C= 2**-10)\n",
    "c6_model = svm.LinearSVC(C= 2**-15)\n",
    "c7_model = svm.LinearSVC( C= 1000)\n",
    "c8_model = svm.LinearSVC( C= 5000)\n",
    "c9_model = svm.LinearSVC(C= 12.5)\n",
    "c10_model = svm.LinearSVC(C= 15)\n",
    "c11_model = svm.LinearSVC(C= 20) \n",
    "c12_model = svm.LinearSVC(C= 25)\n",
    "c13_model = svm.LinearSVC(C= 30)\n",
    "c14_model = svm.LinearSVC(C= 35) \n",
    "c15_model = svm.LinearSVC(C= 40)\n",
    "c16_model = svm.LinearSVC(C= 45)\n",
    "c17_model = svm.LinearSVC(C= 50) \n",
    "\n",
    "def hyperparameter_search_for_spam(x):\n",
    "    x.fit(spam_tr_features, np.ravel(spam_tr_labels))\n",
    "    y_pred = x.predict(spam_val_features)\n",
    "    return accuracy_score(spam_val_labels, y_pred)\n",
    "c_models = [c1_model, c2_model, c3_model, c4_model, c5_model, c6_model, c7_model,\n",
    "            c8_model,c9_model, c10_model, c11_model, c12_model, c13_model, c14_model,\n",
    "            c15_model, c16_model, c17_model]\n",
    "range_of_num_models = range(1, len(c_models) + 1)\n",
    "for N in range_of_num_models:\n",
    "    print(f\"The c{N}_model's validation accuracy is: \", hyperparameter_search_for_spam(c_models[N-1]))\n",
    "    \n",
    "\n",
    "\n"
   ]
  },
  {
   "cell_type": "code",
   "execution_count": 5,
   "metadata": {},
   "outputs": [
    {
     "name": "stderr",
     "output_type": "stream",
     "text": [
      "/opt/anaconda3/lib/python3.8/site-packages/sklearn/svm/_base.py:976: ConvergenceWarning: Liblinear failed to converge, increase the number of iterations.\n",
      "  warnings.warn(\"Liblinear failed to converge, increase \"\n"
     ]
    }
   ],
   "source": [
    "# KAGGLE PURPOSE ONLY \n",
    "# Unzip the features and labels \n",
    "\n",
    "# For Kaggle purpose (using all 5172 data instead of just the training set)\n",
    "\n",
    "spam_res = list(zip(*shuffled_spam_data)) \n",
    "spam_features = spam_res[0]\n",
    "spam_labels = spam_res[1]\n",
    "\n",
    "# Create svm Classifier for all examples\n",
    "spam_clf_all_c14_model = svm.LinearSVC(C= 35)\n",
    "\n",
    "# Fit the model \n",
    "spam_clf_all_c14_model.fit(spam_features, np.ravel(spam_labels))\n",
    "\n",
    "# Predict the response for the test dataset\n",
    "spam_y_pred_all_c14_model = spam_clf_all_c14_model.predict(test_spam_set)\n",
    "\n",
    "\n",
    "\n",
    "\n",
    "# A code snippet to help you save your results into a kaggle accepted csv\n",
    "\n",
    "import pandas as pd\n",
    "import numpy as np\n",
    "\n",
    "# Usage results_to_csv(clf.predict(X_test))\n",
    "def results_to_csv(y_test):\n",
    "    y_test = y_test.astype(int)\n",
    "    df = pd.DataFrame({'Category': y_test})\n",
    "    df.index += 1  # Ensures that the index starts at 1. \n",
    "    df.to_csv('submission_spam_c14.csv', index_label='Id')\n",
    "results_to_csv(spam_y_pred_all_c14_model)"
   ]
  },
  {
   "cell_type": "code",
   "execution_count": null,
   "metadata": {},
   "outputs": [],
   "source": []
  }
 ],
 "metadata": {
  "kernelspec": {
   "display_name": "Python 3",
   "language": "python",
   "name": "python3"
  },
  "language_info": {
   "codemirror_mode": {
    "name": "ipython",
    "version": 3
   },
   "file_extension": ".py",
   "mimetype": "text/x-python",
   "name": "python",
   "nbconvert_exporter": "python",
   "pygments_lexer": "ipython3",
   "version": "3.8.5"
  }
 },
 "nbformat": 4,
 "nbformat_minor": 4
}
