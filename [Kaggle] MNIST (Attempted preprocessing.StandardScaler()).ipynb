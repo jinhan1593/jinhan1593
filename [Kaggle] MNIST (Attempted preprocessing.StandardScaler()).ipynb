{
 "cells": [
  {
   "cell_type": "code",
   "execution_count": 1,
   "metadata": {},
   "outputs": [
    {
     "name": "stdout",
     "output_type": "stream",
     "text": [
      "\n",
      "loaded mnist data!\n",
      "test_data (10000, 784)\n",
      "training_data (60000, 784)\n",
      "training_labels (60000, 1)\n",
      "\n",
      "loaded spam data!\n",
      "test_data (5857, 154)\n",
      "training_data (5172, 154)\n",
      "training_labels (5172, 1)\n",
      "\n",
      "loaded cifar10 data!\n",
      "test_data (10000, 3072)\n",
      "training_data (50000, 3072)\n",
      "training_labels (50000, 1)\n"
     ]
    }
   ],
   "source": [
    "# Prerequisite\n",
    "import sys\n",
    "if sys.version_info[0] < 3:\n",
    "    raise Exception(\"Python 3 not detected.\")\n",
    "    \n",
    "import numpy as np\n",
    "import matplotlib.pyplot as plt \n",
    "from sklearn import svm\n",
    "from scipy import io\n",
    "\n",
    "for data_name in [\"mnist\", \"spam\", \"cifar10\"]:\n",
    "    data = io.loadmat(\"/Users/jinhan/Downloads/hw1/data/%s_data.mat\" % data_name)\n",
    "    print(\"\\nloaded %s data!\" % data_name)\n",
    "    fields = \"test_data\", \"training_data\", \"training_labels\"\n",
    "    for field in fields:\n",
    "        print(field, data[field].shape)"
   ]
  },
  {
   "cell_type": "code",
   "execution_count": 2,
   "metadata": {},
   "outputs": [],
   "source": [
    "# Question 1: Data Partitioning\n",
    "import random\n",
    "# mnist training and validation set\n",
    "mnist_data = io.loadmat(\"/Users/jinhan/Downloads/hw1/data/mnist_data.mat\")\n",
    "\n",
    "# zip training data and training labels\n",
    "mapped = list(zip(mnist_data['training_data'],mnist_data['training_labels']))\n",
    "\n",
    "# shuffle the data with corresponding label\n",
    "shuffled_mapped_array = random.sample(mapped, len(mapped))\n",
    "\n",
    "# split validation set and the remaining training set\n",
    "validation_set = shuffled_mapped_array[:10000]\n",
    "remaining_set = shuffled_mapped_array[10000:]"
   ]
  },
  {
   "cell_type": "code",
   "execution_count": 4,
   "metadata": {},
   "outputs": [
    {
     "data": {
      "text/plain": [
       "0.7965"
      ]
     },
     "execution_count": 4,
     "metadata": {},
     "output_type": "execute_result"
    }
   ],
   "source": [
    "from sklearn import preprocessing\n",
    "import numpy as np\n",
    "from sklearn.metrics import accuracy_score\n",
    "\n",
    "unzipped_scaled_array = list(zip(*shuffled_mapped_array))\n",
    "unzipped_scaled_features_total_set = unzipped_scaled_array[0]\n",
    "unzipped_scaled_labels_total_set = unzipped_scaled_array[1] \n",
    "\n",
    "scaled_val_label_set = unzipped_scaled_labels_total_set[:10000]\n",
    "scaled_tr_label_set = unzipped_scaled_labels_total_set[10000:]\n",
    "\n",
    "\n",
    "scaler = preprocessing.StandardScaler().fit(unzipped_scaled_features_total_set)\n",
    "\n",
    "scaler.mean_\n",
    "\n",
    "scaler.scale_\n",
    "\n",
    "X_scaled = scaler.transform(unzipped_scaled_features_total_set)\n",
    "\n",
    "scaled_val_feature_set = X_scaled[:10000]\n",
    "scaled_tr_feature_set = X_scaled[10000:]\n",
    "\n",
    "scaled_tr_30000 = scaled_tr_feature_set[18800:48800]\n",
    "\n",
    "sc_y_train_30000 = scaled_tr_label_set[18800:48800]\n",
    "\n",
    "# Scaled X_test \n",
    "\n",
    "scaled_x_test = scaled_val_feature_set\n",
    "\n",
    "# Scaled Y_test\n",
    "\n",
    "scaled_y_test = scaled_val_label_set\n",
    "\n",
    "# Apply SVM model\n",
    "scaled_clf_30000 = svm.LinearSVC(C= 2**-20.5)\n",
    "scaled_clf_30000.fit(scaled_tr_30000, np.ravel(sc_y_train_30000))\n",
    "\n",
    "scaled_y_pred_30000 = scaled_clf_30000.predict(scaled_x_test)\n",
    "\n",
    "accuracy_score(scaled_y_test,scaled_y_pred_30000)"
   ]
  }
 ],
 "metadata": {
  "kernelspec": {
   "display_name": "Python 3",
   "language": "python",
   "name": "python3"
  },
  "language_info": {
   "codemirror_mode": {
    "name": "ipython",
    "version": 3
   },
   "file_extension": ".py",
   "mimetype": "text/x-python",
   "name": "python",
   "nbconvert_exporter": "python",
   "pygments_lexer": "ipython3",
   "version": "3.8.5"
  }
 },
 "nbformat": 4,
 "nbformat_minor": 4
}
